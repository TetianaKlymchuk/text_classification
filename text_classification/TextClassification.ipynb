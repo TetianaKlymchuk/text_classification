{
 "cells": [
  {
   "cell_type": "markdown",
   "metadata": {},
   "source": [
    "## Classifying News Headlines With Transformers & scikit-learn\n",
    "\n",
    "The UCI ML News Aggregator Dataset contains headlines and categories for over 400k news articles. Let's see if we can accurately classify the news category based just on the headline\n",
    "\n",
    "We would use spaCy wrapper for sentence transformers, spacy-sentence-bert from\n",
    "\n",
    "https://github.com/MartinoMensio/spacy-sentence-bert\n",
    "\n",
    "to compute dense vector representations for sentences, paragraphs, and images. The model is based on transformer networks like BERT / RoBERTa / XLM-RoBERTa etc. and achieve state-of-the-art performance in various task. Text is embedding in vector space such that similar text is close and can efficiently be found using cosine similarity."
   ]
  },
  {
   "cell_type": "code",
   "execution_count": 1,
   "metadata": {},
   "outputs": [],
   "source": [
    "%matplotlib inline\n",
    "import pandas as pd\n",
    "import matplotlib.pyplot as plt"
   ]
  },
  {
   "cell_type": "code",
   "execution_count": 2,
   "metadata": {},
   "outputs": [],
   "source": [
    "news = pd.read_csv(\"uci-news-aggregator.csv\")"
   ]
  },
  {
   "cell_type": "code",
   "execution_count": 3,
   "metadata": {},
   "outputs": [],
   "source": [
    "news = news[[\"TITLE\", \"CATEGORY\"]]"
   ]
  },
  {
   "cell_type": "code",
   "execution_count": 4,
   "metadata": {},
   "outputs": [],
   "source": [
    "dict = {'TITLE': 'title',\n",
    "        'CATEGORY': 'topic'}\n",
    " \n",
    "news.rename(columns=dict,\n",
    "          inplace=True)"
   ]
  },
  {
   "cell_type": "code",
   "execution_count": 5,
   "metadata": {},
   "outputs": [
    {
     "data": {
      "text/plain": [
       "(422419, 2)"
      ]
     },
     "execution_count": 5,
     "metadata": {},
     "output_type": "execute_result"
    }
   ],
   "source": [
    "news.shape"
   ]
  },
  {
   "cell_type": "code",
   "execution_count": 7,
   "metadata": {},
   "outputs": [
    {
     "data": {
      "text/html": [
       "<div>\n",
       "<style scoped>\n",
       "    .dataframe tbody tr th:only-of-type {\n",
       "        vertical-align: middle;\n",
       "    }\n",
       "\n",
       "    .dataframe tbody tr th {\n",
       "        vertical-align: top;\n",
       "    }\n",
       "\n",
       "    .dataframe thead th {\n",
       "        text-align: right;\n",
       "    }\n",
       "</style>\n",
       "<table border=\"1\" class=\"dataframe\">\n",
       "  <thead>\n",
       "    <tr style=\"text-align: right;\">\n",
       "      <th></th>\n",
       "      <th>title</th>\n",
       "      <th>topic</th>\n",
       "    </tr>\n",
       "  </thead>\n",
       "  <tbody>\n",
       "    <tr>\n",
       "      <th>0</th>\n",
       "      <td>Fed official says weak data caused by weather,...</td>\n",
       "      <td>b</td>\n",
       "    </tr>\n",
       "    <tr>\n",
       "      <th>1</th>\n",
       "      <td>Fed's Charles Plosser sees high bar for change...</td>\n",
       "      <td>b</td>\n",
       "    </tr>\n",
       "    <tr>\n",
       "      <th>2</th>\n",
       "      <td>US open: Stocks fall after Fed official hints ...</td>\n",
       "      <td>b</td>\n",
       "    </tr>\n",
       "    <tr>\n",
       "      <th>3</th>\n",
       "      <td>Fed risks falling 'behind the curve', Charles ...</td>\n",
       "      <td>b</td>\n",
       "    </tr>\n",
       "    <tr>\n",
       "      <th>4</th>\n",
       "      <td>Fed's Plosser: Nasty Weather Has Curbed Job Gr...</td>\n",
       "      <td>b</td>\n",
       "    </tr>\n",
       "  </tbody>\n",
       "</table>\n",
       "</div>"
      ],
      "text/plain": [
       "                                               title topic\n",
       "0  Fed official says weak data caused by weather,...     b\n",
       "1  Fed's Charles Plosser sees high bar for change...     b\n",
       "2  US open: Stocks fall after Fed official hints ...     b\n",
       "3  Fed risks falling 'behind the curve', Charles ...     b\n",
       "4  Fed's Plosser: Nasty Weather Has Curbed Job Gr...     b"
      ]
     },
     "execution_count": 7,
     "metadata": {},
     "output_type": "execute_result"
    }
   ],
   "source": [
    "news.head()"
   ]
  },
  {
   "cell_type": "code",
   "execution_count": 6,
   "metadata": {},
   "outputs": [
    {
     "name": "stdout",
     "output_type": "stream",
     "text": [
      "['b' 't' 'e' 'm']\n"
     ]
    }
   ],
   "source": [
    "print(news.topic.unique())"
   ]
  },
  {
   "cell_type": "code",
   "execution_count": 8,
   "metadata": {},
   "outputs": [
    {
     "data": {
      "image/png": "[encoded data removed]",
      "text/plain": [
       "<Figure size 432x288 with 1 Axes>"
      ]
     },
     "metadata": {
      "needs_background": "light"
     },
     "output_type": "display_data"
    }
   ],
   "source": [
    "news['topic'].value_counts().plot(kind=\"bar\")\n",
    "plt.show()"
   ]
  },
  {
   "cell_type": "code",
   "execution_count": 9,
   "metadata": {},
   "outputs": [
    {
     "data": {
      "text/plain": [
       "<matplotlib.axes._subplots.AxesSubplot at 0x7f34e68c40b8>"
      ]
     },
     "execution_count": 9,
     "metadata": {},
     "output_type": "execute_result"
    },
    {
     "data": {
      "image/png": "[encoded data removed]",
      "text/plain": [
       "<Figure size 432x288 with 1 Axes>"
      ]
     },
     "metadata": {
      "needs_background": "light"
     },
     "output_type": "display_data"
    }
   ],
   "source": [
    "import numpy as np\n",
    "\n",
    "lens = news.title.str.len()\n",
    "lens.hist(bins = np.arange(0,200,5))"
   ]
  },
  {
   "cell_type": "code",
   "execution_count": 10,
   "metadata": {},
   "outputs": [],
   "source": [
    "import re\n",
    "import string\n",
    "\n",
    "def clean_text(s):\n",
    "    s = s.lower()\n",
    "    for ch in string.punctuation:                                                                                                     \n",
    "        s = s.replace(ch, \" \") \n",
    "    s = re.sub(\"[0-9]+\", \"||DIG||\",s)\n",
    "    s = re.sub(' +',' ', s)        \n",
    "    return s\n",
    "\n",
    "news['text'] = [clean_text(s) for s in news['title']]"
   ]
  },
  {
   "cell_type": "code",
   "execution_count": 11,
   "metadata": {},
   "outputs": [
    {
     "data": {
      "text/html": [
       "<div>\n",
       "<style scoped>\n",
       "    .dataframe tbody tr th:only-of-type {\n",
       "        vertical-align: middle;\n",
       "    }\n",
       "\n",
       "    .dataframe tbody tr th {\n",
       "        vertical-align: top;\n",
       "    }\n",
       "\n",
       "    .dataframe thead th {\n",
       "        text-align: right;\n",
       "    }\n",
       "</style>\n",
       "<table border=\"1\" class=\"dataframe\">\n",
       "  <thead>\n",
       "    <tr style=\"text-align: right;\">\n",
       "      <th></th>\n",
       "      <th>title</th>\n",
       "      <th>topic</th>\n",
       "      <th>text</th>\n",
       "    </tr>\n",
       "  </thead>\n",
       "  <tbody>\n",
       "    <tr>\n",
       "      <th>0</th>\n",
       "      <td>Fed official says weak data caused by weather,...</td>\n",
       "      <td>b</td>\n",
       "      <td>fed official says weak data caused by weather ...</td>\n",
       "    </tr>\n",
       "    <tr>\n",
       "      <th>1</th>\n",
       "      <td>Fed's Charles Plosser sees high bar for change...</td>\n",
       "      <td>b</td>\n",
       "      <td>fed s charles plosser sees high bar for change...</td>\n",
       "    </tr>\n",
       "    <tr>\n",
       "      <th>2</th>\n",
       "      <td>US open: Stocks fall after Fed official hints ...</td>\n",
       "      <td>b</td>\n",
       "      <td>us open stocks fall after fed official hints a...</td>\n",
       "    </tr>\n",
       "    <tr>\n",
       "      <th>3</th>\n",
       "      <td>Fed risks falling 'behind the curve', Charles ...</td>\n",
       "      <td>b</td>\n",
       "      <td>fed risks falling behind the curve charles plo...</td>\n",
       "    </tr>\n",
       "    <tr>\n",
       "      <th>4</th>\n",
       "      <td>Fed's Plosser: Nasty Weather Has Curbed Job Gr...</td>\n",
       "      <td>b</td>\n",
       "      <td>fed s plosser nasty weather has curbed job growth</td>\n",
       "    </tr>\n",
       "  </tbody>\n",
       "</table>\n",
       "</div>"
      ],
      "text/plain": [
       "                                               title topic  \\\n",
       "0  Fed official says weak data caused by weather,...     b   \n",
       "1  Fed's Charles Plosser sees high bar for change...     b   \n",
       "2  US open: Stocks fall after Fed official hints ...     b   \n",
       "3  Fed risks falling 'behind the curve', Charles ...     b   \n",
       "4  Fed's Plosser: Nasty Weather Has Curbed Job Gr...     b   \n",
       "\n",
       "                                                text  \n",
       "0  fed official says weak data caused by weather ...  \n",
       "1  fed s charles plosser sees high bar for change...  \n",
       "2  us open stocks fall after fed official hints a...  \n",
       "3  fed risks falling behind the curve charles plo...  \n",
       "4  fed s plosser nasty weather has curbed job growth  "
      ]
     },
     "execution_count": 11,
     "metadata": {},
     "output_type": "execute_result"
    }
   ],
   "source": [
    "news.head()"
   ]
  },
  {
   "cell_type": "markdown",
   "metadata": {},
   "source": [
    "Let's use a subset od a dataset for simplicity"
   ]
  },
  {
   "cell_type": "code",
   "execution_count": 12,
   "metadata": {},
   "outputs": [],
   "source": [
    "df = pd.DataFrame(columns=['title', 'topic', 'text'])\n",
    "\n",
    "for topic in news.topic.unique():\n",
    "    temp_df = news[news['topic'] == topic][:5000]\n",
    "    df = pd.concat([df, temp_df])"
   ]
  },
  {
   "cell_type": "code",
   "execution_count": 13,
   "metadata": {},
   "outputs": [
    {
     "data": {
      "text/html": [
       "<div>\n",
       "<style scoped>\n",
       "    .dataframe tbody tr th:only-of-type {\n",
       "        vertical-align: middle;\n",
       "    }\n",
       "\n",
       "    .dataframe tbody tr th {\n",
       "        vertical-align: top;\n",
       "    }\n",
       "\n",
       "    .dataframe thead th {\n",
       "        text-align: right;\n",
       "    }\n",
       "</style>\n",
       "<table border=\"1\" class=\"dataframe\">\n",
       "  <thead>\n",
       "    <tr style=\"text-align: right;\">\n",
       "      <th></th>\n",
       "      <th>title</th>\n",
       "      <th>topic</th>\n",
       "      <th>text</th>\n",
       "    </tr>\n",
       "  </thead>\n",
       "  <tbody>\n",
       "    <tr>\n",
       "      <th>0</th>\n",
       "      <td>Fed official says weak data caused by weather,...</td>\n",
       "      <td>b</td>\n",
       "      <td>fed official says weak data caused by weather ...</td>\n",
       "    </tr>\n",
       "    <tr>\n",
       "      <th>1</th>\n",
       "      <td>Fed's Charles Plosser sees high bar for change...</td>\n",
       "      <td>b</td>\n",
       "      <td>fed s charles plosser sees high bar for change...</td>\n",
       "    </tr>\n",
       "    <tr>\n",
       "      <th>2</th>\n",
       "      <td>US open: Stocks fall after Fed official hints ...</td>\n",
       "      <td>b</td>\n",
       "      <td>us open stocks fall after fed official hints a...</td>\n",
       "    </tr>\n",
       "    <tr>\n",
       "      <th>3</th>\n",
       "      <td>Fed risks falling 'behind the curve', Charles ...</td>\n",
       "      <td>b</td>\n",
       "      <td>fed risks falling behind the curve charles plo...</td>\n",
       "    </tr>\n",
       "    <tr>\n",
       "      <th>4</th>\n",
       "      <td>Fed's Plosser: Nasty Weather Has Curbed Job Gr...</td>\n",
       "      <td>b</td>\n",
       "      <td>fed s plosser nasty weather has curbed job growth</td>\n",
       "    </tr>\n",
       "  </tbody>\n",
       "</table>\n",
       "</div>"
      ],
      "text/plain": [
       "                                               title topic  \\\n",
       "0  Fed official says weak data caused by weather,...     b   \n",
       "1  Fed's Charles Plosser sees high bar for change...     b   \n",
       "2  US open: Stocks fall after Fed official hints ...     b   \n",
       "3  Fed risks falling 'behind the curve', Charles ...     b   \n",
       "4  Fed's Plosser: Nasty Weather Has Curbed Job Gr...     b   \n",
       "\n",
       "                                                text  \n",
       "0  fed official says weak data caused by weather ...  \n",
       "1  fed s charles plosser sees high bar for change...  \n",
       "2  us open stocks fall after fed official hints a...  \n",
       "3  fed risks falling behind the curve charles plo...  \n",
       "4  fed s plosser nasty weather has curbed job growth  "
      ]
     },
     "execution_count": 13,
     "metadata": {},
     "output_type": "execute_result"
    }
   ],
   "source": [
    "df.head()"
   ]
  },
  {
   "cell_type": "code",
   "execution_count": 14,
   "metadata": {},
   "outputs": [
    {
     "data": {
      "text/plain": [
       "(20000, 3)"
      ]
     },
     "execution_count": 14,
     "metadata": {},
     "output_type": "execute_result"
    }
   ],
   "source": [
    "df.shape"
   ]
  },
  {
   "cell_type": "code",
   "execution_count": 15,
   "metadata": {},
   "outputs": [],
   "source": [
    "import spacy_sentence_bert\n",
    "\n",
    "# load one of the models listed at https://github.com/MartinoMensio/spacy-sentence-bert/\n",
    "nlp = spacy_sentence_bert.load_model('en_stsb_distilbert_base')"
   ]
  },
  {
   "cell_type": "code",
   "execution_count": 16,
   "metadata": {},
   "outputs": [],
   "source": [
    "df['vector'] = df['title'].apply(lambda x: nlp(x).vector)"
   ]
  },
  {
   "cell_type": "code",
   "execution_count": 19,
   "metadata": {},
   "outputs": [],
   "source": [
    "tania = [1,2,3]\n",
    "joel = [0,1,0]\n",
    "a = [2,3,4]"
   ]
  },
  {
   "cell_type": "code",
   "execution_count": 20,
   "metadata": {},
   "outputs": [
    {
     "data": {
      "text/plain": [
       "[1, 2, 3, 2, 3, 4, 0, 1, 0]"
      ]
     },
     "execution_count": 20,
     "metadata": {},
     "output_type": "execute_result"
    }
   ],
   "source": [
    "# tania a joel\n",
    "[3/3,6/3,7/3]\n",
    "# tania joel\n",
    "[1/2, 3/2, 3/2]"
   ]
  },
  {
   "cell_type": "code",
   "execution_count": 17,
   "metadata": {},
   "outputs": [
    {
     "data": {
      "text/html": [
       "<div>\n",
       "<style scoped>\n",
       "    .dataframe tbody tr th:only-of-type {\n",
       "        vertical-align: middle;\n",
       "    }\n",
       "\n",
       "    .dataframe tbody tr th {\n",
       "        vertical-align: top;\n",
       "    }\n",
       "\n",
       "    .dataframe thead th {\n",
       "        text-align: right;\n",
       "    }\n",
       "</style>\n",
       "<table border=\"1\" class=\"dataframe\">\n",
       "  <thead>\n",
       "    <tr style=\"text-align: right;\">\n",
       "      <th></th>\n",
       "      <th>title</th>\n",
       "      <th>topic</th>\n",
       "      <th>text</th>\n",
       "      <th>vector</th>\n",
       "    </tr>\n",
       "  </thead>\n",
       "  <tbody>\n",
       "    <tr>\n",
       "      <th>0</th>\n",
       "      <td>Fed official says weak data caused by weather,...</td>\n",
       "      <td>b</td>\n",
       "      <td>fed official says weak data caused by weather ...</td>\n",
       "      <td>[-0.004702461, -0.45349196, 0.02311552, 0.2971...</td>\n",
       "    </tr>\n",
       "    <tr>\n",
       "      <th>1</th>\n",
       "      <td>Fed's Charles Plosser sees high bar for change...</td>\n",
       "      <td>b</td>\n",
       "      <td>fed s charles plosser sees high bar for change...</td>\n",
       "      <td>[0.11904009, 0.4278946, 1.0144297, -0.60062337...</td>\n",
       "    </tr>\n",
       "    <tr>\n",
       "      <th>2</th>\n",
       "      <td>US open: Stocks fall after Fed official hints ...</td>\n",
       "      <td>b</td>\n",
       "      <td>us open stocks fall after fed official hints a...</td>\n",
       "      <td>[0.23235139, 0.033100948, 0.47886723, -0.42086...</td>\n",
       "    </tr>\n",
       "    <tr>\n",
       "      <th>3</th>\n",
       "      <td>Fed risks falling 'behind the curve', Charles ...</td>\n",
       "      <td>b</td>\n",
       "      <td>fed risks falling behind the curve charles plo...</td>\n",
       "      <td>[-0.46812344, 0.42699397, 0.39376128, -0.32394...</td>\n",
       "    </tr>\n",
       "    <tr>\n",
       "      <th>4</th>\n",
       "      <td>Fed's Plosser: Nasty Weather Has Curbed Job Gr...</td>\n",
       "      <td>b</td>\n",
       "      <td>fed s plosser nasty weather has curbed job growth</td>\n",
       "      <td>[-0.3045602, 0.10560442, -0.25209218, -1.32014...</td>\n",
       "    </tr>\n",
       "    <tr>\n",
       "      <th>...</th>\n",
       "      <td>...</td>\n",
       "      <td>...</td>\n",
       "      <td>...</td>\n",
       "      <td>...</td>\n",
       "    </tr>\n",
       "    <tr>\n",
       "      <th>46486</th>\n",
       "      <td>Air pollution killed 7 million people, more th...</td>\n",
       "      <td>m</td>\n",
       "      <td>air pollution killed ||DIG|| million people mo...</td>\n",
       "      <td>[0.918067, -0.6574964, 0.6018689, -0.72687316,...</td>\n",
       "    </tr>\n",
       "    <tr>\n",
       "      <th>46487</th>\n",
       "      <td>WHO: Pollution kills 7 million people every year</td>\n",
       "      <td>m</td>\n",
       "      <td>who pollution kills ||DIG|| million people eve...</td>\n",
       "      <td>[0.72617877, -0.20034589, 0.47320244, -0.40602...</td>\n",
       "    </tr>\n",
       "    <tr>\n",
       "      <th>46488</th>\n",
       "      <td>Air pollution killed seven million people in 2...</td>\n",
       "      <td>m</td>\n",
       "      <td>air pollution killed seven million people in |...</td>\n",
       "      <td>[0.96667284, -0.9736302, 0.48745275, -0.306833...</td>\n",
       "    </tr>\n",
       "    <tr>\n",
       "      <th>46489</th>\n",
       "      <td>Environmental Pollution Seems To Be Posing a B...</td>\n",
       "      <td>m</td>\n",
       "      <td>environmental pollution seems to be posing a b...</td>\n",
       "      <td>[0.6997536, -0.30608872, -0.39316115, -0.55720...</td>\n",
       "    </tr>\n",
       "    <tr>\n",
       "      <th>46490</th>\n",
       "      <td>China among countries hardest hit by air pollu...</td>\n",
       "      <td>m</td>\n",
       "      <td>china among countries hardest hit by air pollu...</td>\n",
       "      <td>[0.5397591, -0.16721588, -0.52435267, 0.305758...</td>\n",
       "    </tr>\n",
       "  </tbody>\n",
       "</table>\n",
       "<p>20000 rows × 4 columns</p>\n",
       "</div>"
      ],
      "text/plain": [
       "                                                   title topic  \\\n",
       "0      Fed official says weak data caused by weather,...     b   \n",
       "1      Fed's Charles Plosser sees high bar for change...     b   \n",
       "2      US open: Stocks fall after Fed official hints ...     b   \n",
       "3      Fed risks falling 'behind the curve', Charles ...     b   \n",
       "4      Fed's Plosser: Nasty Weather Has Curbed Job Gr...     b   \n",
       "...                                                  ...   ...   \n",
       "46486  Air pollution killed 7 million people, more th...     m   \n",
       "46487   WHO: Pollution kills 7 million people every year     m   \n",
       "46488  Air pollution killed seven million people in 2...     m   \n",
       "46489  Environmental Pollution Seems To Be Posing a B...     m   \n",
       "46490  China among countries hardest hit by air pollu...     m   \n",
       "\n",
       "                                                    text  \\\n",
       "0      fed official says weak data caused by weather ...   \n",
       "1      fed s charles plosser sees high bar for change...   \n",
       "2      us open stocks fall after fed official hints a...   \n",
       "3      fed risks falling behind the curve charles plo...   \n",
       "4      fed s plosser nasty weather has curbed job growth   \n",
       "...                                                  ...   \n",
       "46486  air pollution killed ||DIG|| million people mo...   \n",
       "46487  who pollution kills ||DIG|| million people eve...   \n",
       "46488  air pollution killed seven million people in |...   \n",
       "46489  environmental pollution seems to be posing a b...   \n",
       "46490  china among countries hardest hit by air pollu...   \n",
       "\n",
       "                                                  vector  \n",
       "0      [-0.004702461, -0.45349196, 0.02311552, 0.2971...  \n",
       "1      [0.11904009, 0.4278946, 1.0144297, -0.60062337...  \n",
       "2      [0.23235139, 0.033100948, 0.47886723, -0.42086...  \n",
       "3      [-0.46812344, 0.42699397, 0.39376128, -0.32394...  \n",
       "4      [-0.3045602, 0.10560442, -0.25209218, -1.32014...  \n",
       "...                                                  ...  \n",
       "46486  [0.918067, -0.6574964, 0.6018689, -0.72687316,...  \n",
       "46487  [0.72617877, -0.20034589, 0.47320244, -0.40602...  \n",
       "46488  [0.96667284, -0.9736302, 0.48745275, -0.306833...  \n",
       "46489  [0.6997536, -0.30608872, -0.39316115, -0.55720...  \n",
       "46490  [0.5397591, -0.16721588, -0.52435267, 0.305758...  \n",
       "\n",
       "[20000 rows x 4 columns]"
      ]
     },
     "execution_count": 17,
     "metadata": {},
     "output_type": "execute_result"
    }
   ],
   "source": [
    "df"
   ]
  },
  {
   "cell_type": "markdown",
   "metadata": {},
   "source": [
    "Train Classifier"
   ]
  },
  {
   "cell_type": "code",
   "execution_count": 18,
   "metadata": {},
   "outputs": [],
   "source": [
    "from sklearn.model_selection import train_test_split\n",
    "\n",
    "X_train, X_test, y_train, y_test = train_test_split(df['vector'].tolist(), df['topic'].tolist(), test_size=0.33, random_state=42)"
   ]
  },
  {
   "cell_type": "code",
   "execution_count": 21,
   "metadata": {},
   "outputs": [],
   "source": [
    "from sklearn.svm import SVC\n",
    "\n",
    "clf = SVC(gamma='auto')\n",
    "clf.fit(X_train, y_train)\n",
    "y_pred = clf.predict(X_test)"
   ]
  },
  {
   "cell_type": "code",
   "execution_count": 22,
   "metadata": {},
   "outputs": [
    {
     "name": "stdout",
     "output_type": "stream",
     "text": [
      "0.9328787878787879\n"
     ]
    }
   ],
   "source": [
    "from sklearn.metrics import accuracy_score\n",
    "print(accuracy_score(y_test, y_pred))"
   ]
  },
  {
   "cell_type": "code",
   "execution_count": 23,
   "metadata": {},
   "outputs": [
    {
     "name": "stdout",
     "output_type": "stream",
     "text": [
      "0.8824242424242424\n"
     ]
    }
   ],
   "source": [
    "from sklearn.ensemble import RandomForestClassifier\n",
    "\n",
    "clf = RandomForestClassifier(max_depth=9, random_state=0)\n",
    "clf.fit(X_train, y_train)\n",
    "\n",
    "y_pred = clf.predict(X_test)\n",
    "print(accuracy_score(y_test, y_pred))"
   ]
  },
  {
   "cell_type": "code",
   "execution_count": 42,
   "metadata": {},
   "outputs": [],
   "source": [
    "headlines = [\"Fed official says weak data caused by weather, should not slow taper\", \n",
    "             \"iPad Air 2 And iPad Mini 3 Release Date\",\n",
    "             \"George Zimmerman Has an Armed Life on the Move\",\n",
    "             \"Grown-ups: Put down the smartphones at mealtime\"\n",
    "            ]\n",
    "\n",
    "topics = ['b',  't',  'e', \"m\"]"
   ]
  },
  {
   "cell_type": "code",
   "execution_count": 43,
   "metadata": {},
   "outputs": [
    {
     "name": "stdout",
     "output_type": "stream",
     "text": [
      "Fed official says weak data caused by weather, should not slow taper\n",
      "True Label: b, Predicted Label: b \n",
      "\n",
      "iPad Air 2 And iPad Mini 3 Release Date\n",
      "True Label: t, Predicted Label: t \n",
      "\n",
      "George Zimmerman Has an Armed Life on the Move\n",
      "True Label: e, Predicted Label: e \n",
      "\n",
      "Grown-ups: Put down the smartphones at mealtime\n",
      "True Label: m, Predicted Label: t \n",
      "\n"
     ]
    }
   ],
   "source": [
    "for headline, topic in zip(headlines, topics):\n",
    "    print(headline)\n",
    "    print(f\"True Label: {topic}, Predicted Label: {clf.predict(nlp(headline).vector.reshape(1, -1))[0]} \\n\")"
   ]
  }
 ],
 "metadata": {
  "kernelspec": {
   "display_name": "uic",
   "language": "python",
   "name": "uic"
  },
  "language_info": {
   "codemirror_mode": {
    "name": "ipython",
    "version": 3
   },
   "file_extension": ".py",
   "mimetype": "text/x-python",
   "name": "python",
   "nbconvert_exporter": "python",
   "pygments_lexer": "ipython3",
   "version": "3.6.13"
  }
 },
 "nbformat": 4,
 "nbformat_minor": 4
}
